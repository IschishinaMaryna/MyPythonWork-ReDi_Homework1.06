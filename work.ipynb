{
  "nbformat": 4,
  "nbformat_minor": 0,
  "metadata": {
    "colab": {
      "provenance": [],
      "collapsed_sections": [
        "jZ8bnn2M2qE7"
      ]
    },
    "kernelspec": {
      "name": "python3",
      "display_name": "Python 3"
    },
    "language_info": {
      "name": "python"
    }
  },
  "cells": [
    {
      "cell_type": "markdown",
      "source": [
        "# Analyse World Population Data"
      ],
      "metadata": {
        "id": "E0wwgCORJtbV"
      }
    },
    {
      "cell_type": "markdown",
      "source": [
        "## Task"
      ],
      "metadata": {
        "id": "1G7miXBct4Ij"
      }
    },
    {
      "cell_type": "markdown",
      "source": [
        "Find out what might make countries better.\n",
        "1. Have a look at the variables, understand what they are.\n",
        "2. Pick a variable which interests you in a country.\n",
        "2. Which other variables are associated with your target variable? Formulate several hypotheses.\n",
        "3. Explore each hypothesis.\n",
        "    - Make plots and/or compute statistics.\n",
        "    - Write a short conclusion, refer to the justifications you found in the data."
      ],
      "metadata": {
        "id": "QwBMGcy3J641"
      }
    },
    {
      "cell_type": "markdown",
      "source": [
        "## Dataset description"
      ],
      "metadata": {
        "id": "s72i_jsqJ2xD"
      }
    },
    {
      "cell_type": "markdown",
      "source": [
        "_Source: https://www.kaggle.com/datasets/madhurpant/world-population-data\n",
        "  (See the bottom of this notebook for the steps to re-create it)_\n",
        "\n",
        "This dataset describes 192 countries and their populations. Here are the columns, grouped by topic:\n",
        "\n",
        "1. Height and weight:\n",
        "    - male_height\n",
        "    - female_height\n",
        "    - male_weight\n",
        "    - female_weight\n",
        "    - male_bmi\n",
        "    - female_bmi\n",
        "\n",
        "2. Life expectancy:\n",
        "    - male_life_expectancy\n",
        "    - female_life_expectancy\n",
        "    - birth_rate\n",
        "    - death_rate\n",
        "\n",
        "3. Population density:\n",
        "    - area\n",
        "    - population\n",
        "    - pop_per_km_sq\n",
        "\n",
        "4. Quality of life:\n",
        "    - stability\n",
        "    - rights\n",
        "    - health\n",
        "    - safety\n",
        "    - climate\n",
        "    - costs\n",
        "    - popularity\n",
        "\n",
        "5. Other:\n",
        "    - iq\n",
        "    - education_expenditure_per_inhabitant\n",
        "    - daily_max_temp\n"
      ],
      "metadata": {
        "id": "Zar5Nc41zTIk"
      }
    },
    {
      "cell_type": "markdown",
      "source": [
        "## Analysis"
      ],
      "metadata": {
        "id": "ZviCHcBXuAi1"
      }
    },
    {
      "cell_type": "code",
      "source": [
        "import pandas as pd\n",
        "import seaborn as sns\n",
        "\n",
        "# From https://drive.google.com/file/d/181fFa4h4EigLpMlyu3DXaptm41tXVrNS/view\n",
        "df = pd.read_csv(\n",
        "    \"https://drive.google.com/uc?id=181fFa4h4EigLpMlyu3DXaptm41tXVrNS\",\n",
        "    index_col=0,\n",
        ")\n",
        "df.shape"
      ],
      "metadata": {
        "id": "g5ymLYlCzQ5w"
      },
      "execution_count": null,
      "outputs": []
    },
    {
      "cell_type": "code",
      "source": [
        "df.columns"
      ],
      "metadata": {
        "id": "dqu65t9OuDsI"
      },
      "execution_count": null,
      "outputs": []
    },
    {
      "cell_type": "code",
      "source": [
        "import matplotlib.pyplot as plt\n",
        "\n",
        "fig, ax = plt.subplots(figsize=(25,10))\n",
        "df_subset_non_string = df.select_dtypes(exclude=\"object\")\n",
        "sns.heatmap(df_subset_non_string.corr(method=\"kendall\"), annot=True, fmt=\".3f\", ax=ax);"
      ],
      "metadata": {
        "id": "-9DhQVp0zsOS"
      },
      "execution_count": null,
      "outputs": []
    },
    {
      "cell_type": "code",
      "source": [
        "df[df.columns[::-1]].head()"
      ],
      "metadata": {
        "id": "q3jcoXjAzwXW"
      },
      "execution_count": null,
      "outputs": []
    },
    {
      "cell_type": "markdown",
      "source": [
        "Variables in the dataset:\n",
        "\n",
        "Height and weight: we have data on the average height and weight of men and women, as well as the average body mass index for both sexes.\n",
        "Life expectancy: includes average life expectancy for men and women, as well as fertility and mortality rates.\n",
        "Population density: provides data on area, population and population per square kilometre.\n",
        "Quality of life: This group contains indicators of stability, human rights, health, safety, climate, costs and popularity.\n",
        "Other indicators: include average IQ, education expenditure per capita, and maximum daytime temperature.\n",
        "If I were to choose a variable of interest, it would be \"quality of life\", as it is an important indicator for the development of countries. Now let's look at what factors can have a positive impact on the quality of life in countries. This can include the stability of the political and social situation, human rights, the quality of healthcare and education, security, a favourable climate, economic stability and the popularity of the country for residents and tourists.\n",
        "\n",
        "We want to understand what might make countries better, we can start by exploring variables related to quality of life.\n",
        "From the description, it seems like the variables \"stability\", \"rights\", \"health\", \"safety\", \"climate\", \"costs\", and \"popularity\" are relevant to quality of life.\n",
        "\n",
        " #We're interested in exploring what factors might be associated with a country's stability.\n",
        "\n",
        "Health Hypothesis:Countries with better health indicators (such as higher life expectancy, lower death rates, and lower BMI) may also exhibit greater stability."
      ],
      "metadata": {
        "id": "a4Xpg_OYrYiv"
      }
    },
    {
      "cell_type": "code",
      "source": [
        "# Defining the variables we have\n",
        "health_variables = ['male_life_expectancy', 'female_life_expectancy', 'birth_rate', 'death_rate', 'male_bmi', 'female_bmi']\n",
        "\n",
        "# Review the correlation matrix between health and sustainability indicators\n",
        "health_stability_correlation = df[health_variables + ['stability']].corr()\n",
        "print(health_stability_correlation)\n"
      ],
      "metadata": {
        "id": "cmlDaMFSrGrj"
      },
      "execution_count": null,
      "outputs": []
    },
    {
      "cell_type": "code",
      "source": [
        "# Defining female health variables\n",
        "male_health_variables = ['male_life_expectancy', 'male_bmi']\n",
        "\n",
        "# Creating a correlation matrix\n",
        "male_health_stability_correlation = df[male_health_variables + ['stability']].corr()\n",
        "\n",
        "# Print the correlation matrix\n",
        "print(male_health_stability_correlation)\n",
        "\n",
        "# Plotting scatter plots for each female health variable against stability\n",
        "for variable in male_health_variables:\n",
        "    sns.scatterplot(x=variable, y='stability', data=df)\n",
        "    plt.xlabel(variable)\n",
        "    plt.ylabel('Stability')\n",
        "    plt.title(f'Correlation between {variable} and Stability')\n",
        "    plt.show()"
      ],
      "metadata": {
        "id": "8sSSYrl7yMbo"
      },
      "execution_count": null,
      "outputs": []
    },
    {
      "cell_type": "code",
      "source": [
        "# Defining female health variables\n",
        "female_health_variables = ['female_life_expectancy', 'female_bmi']\n",
        "# Creating a correlation matrix\n",
        "female_health_stability_correlation = df[female_health_variables + ['stability']].corr()\n",
        "\n",
        "# Print the correlation matrix\n",
        "print(female_health_stability_correlation)\n",
        "\n",
        "# Plotting scatter plots for each female health variable against stability\n",
        "for variable in female_health_variables:\n",
        "    sns.scatterplot(x=variable, y='stability', data=df)\n",
        "    plt.xlabel(variable)\n",
        "    plt.ylabel('Stability')\n",
        "    plt.title(f'Correlation between {variable} and Stability')\n",
        "    plt.show()"
      ],
      "metadata": {
        "id": "F9ETig3ixOhH"
      },
      "execution_count": null,
      "outputs": []
    },
    {
      "cell_type": "markdown",
      "source": [
        "Male Life Expectancy and Stability: The scatter plot shows a weak positive correlation between male life expectancy and country stability. This suggests that countries where men have longer life expectancies may have slightly higher levels of stability.\n",
        "Female Life Expectancy and Stability: Similar to male life expectancy, there is a weak positive correlation between female life expectancy and country stability.\n",
        "BMI: There is no significant correlation between BMI for males or females and country stability.\n",
        "\n",
        "According to these data, we see that:\n",
        "\n",
        "There is a strong positive correlation between male life expectancy and country stability (correlation coefficient 0.724741).\n",
        "There is a moderate positive correlation between male body mass index and male life expectancy (correlation coefficient 0.587547).\n",
        "There is also a moderate positive correlation between male body mass index and country stability (correlation coefficient 0.424205).\n",
        "Thus, these data confirm our earlier finding of a positive correlation between male life expectancy and country stability. They also indicate a certain relationship between male body mass index and these two factors, but the correlation is moderate.\n",
        "\n",
        "According to these data, we see that:\n",
        "\n",
        "There is a strong positive correlation between female life expectancy and country stability (correlation coefficient 0.730485).\n",
        "There is a weak positive correlation between women's body mass index and life expectancy (correlation coefficient 0.273751).\n",
        "There is also a very weak positive correlation between women's body mass index and country stability (correlation coefficient 0.068683).\n",
        "Thus, these data support the conclusion that there is a positive correlation between women's life expectancy and country stability, but indicate a lower correlation between women's body mass index and these two factors."
      ],
      "metadata": {
        "id": "mTC9cHoePlLY"
      }
    },
    {
      "cell_type": "markdown",
      "source": [
        "To investigate the hypothesis that the more stable the situation in a country, the higher the birth\\lower rate, we can use the analysis of the correlation between stability indicators and birth\\death rates."
      ],
      "metadata": {
        "id": "_JpA6jbSz8Md"
      }
    },
    {
      "cell_type": "code",
      "source": [
        "# Plotting scatter plot between birth rate, death rate, and stability\n",
        "sns.scatterplot(x='birth_rate', y='stability', data=df, label='Birth Rate')\n",
        "sns.scatterplot(x='death_rate', y='stability', data=df, color='red', label='Death Rate')\n",
        "plt.xlabel('Rate')\n",
        "plt.ylabel('Stability')\n",
        "plt.title('Correlation between Birth Rate, Death Rate, and Stability')\n",
        "plt.legend()\n",
        "plt.show()\n",
        "\n",
        "# Calculating correlation coefficient between birth rate and stability\n",
        "correlation = df['birth_rate'].corr(df['stability'])\n",
        "print(f\"Correlation coefficient between birth rate and stability: {correlation}\")"
      ],
      "metadata": {
        "id": "VtK8urwoQqxC"
      },
      "execution_count": null,
      "outputs": []
    },
    {
      "cell_type": "markdown",
      "source": [
        "In the diagram, the birth rate data will be marked with blue dots and the death rate data with red dots.\n",
        "\n",
        "Based on the results of the scatter plot, the following conclusions can be drawn:\n",
        "За результатами діаграми розсіювання можна зробити наступні висновки:\n",
        "Birth rate and stability: The chart shows that most countries with high fertility rates also have low levels of stability. However, there is no clear linear relationship between the two factors, meaning that there is no definitive rule that says that higher fertility always leads to less stability or vice versa.\n",
        "\n",
        "Death rate and stability: The chart shows that most countries with low mortality rates have higher levels of stability. This may indicate that a low mortality rate can be a positive factor in maintaining stability in a country.\n",
        "\n",
        "\n",
        "Birth and death rates: There is no significant correlation between birth or death rates and a country's stability. This may mean that these health factors are not crucial to the overall stability of the country.\n"
      ],
      "metadata": {
        "id": "6DQ6ZAzjRCda"
      }
    },
    {
      "cell_type": "code",
      "source": [
        "plt.figure(figsize=(14, 6))\n",
        "# Box plot\n",
        "sns.boxplot(x='stability', y='male_life_expectancy', data=df)\n",
        "plt.xlabel(\"stability\")\n",
        "plt.ylabel(\"male_life_expectancy\")\n",
        "plt.title(\"Distribution of men's life expectancy by levels of stability\")\n",
        "plt.xticks(rotation=90)\n",
        "plt.show()\n"
      ],
      "metadata": {
        "id": "hX_TC2C566_s"
      },
      "execution_count": null,
      "outputs": []
    },
    {
      "cell_type": "markdown",
      "source": [
        "Гіпотеза про клімат:\n",
        "Ми можемо дослідити кореляцію між стабільністю та змінними, що стосуються клімату, такими як максимальна щоденна температура.\n",
        "Діаграми розсіювання або кореляційні матриці можуть виявити будь-який потенційний зв'язок між стабільністю та кліматом.\n",
        "\n",
        "Гіпотеза про вплив температури на стабільність: Країни з помірним кліматом, зазвичай, можуть мати більшу стабільність порівняно з країнами з екстремальними температурами."
      ],
      "metadata": {
        "id": "Lek7SKutA4V9"
      }
    },
    {
      "cell_type": "code",
      "source": [
        "# Виведення опису даних про клімат\n",
        "print(df[['climate', 'stability']].head())"
      ],
      "metadata": {
        "id": "9LV-xJqaA3zF"
      },
      "execution_count": null,
      "outputs": []
    },
    {
      "cell_type": "code",
      "source": [
        "# Виведення опису даних про клімат та стабільність\n",
        "print(df[['climate', 'stability']])"
      ],
      "metadata": {
        "id": "TDJ9qfGwCUhX"
      },
      "execution_count": null,
      "outputs": []
    },
    {
      "cell_type": "markdown",
      "source": [
        "Analysis of the relationship between the climate and stability:"
      ],
      "metadata": {
        "id": "FXcdFoY6Chjv"
      }
    },
    {
      "cell_type": "code",
      "source": [
        "df['climate'] = pd.to_numeric(df['climate'], errors='coerce')\n",
        "\n",
        "df_cleaned = df.dropna(subset=['climate', 'stability'])\n",
        "\n",
        "sns.scatterplot(x='climate', y='stability', data=df_cleaned)\n",
        "plt.xlabel('Climate')\n",
        "plt.ylabel('Stability')\n",
        "plt.title('Correlation between Climate and Stability')\n",
        "plt.show()\n",
        "\n",
        "correlation_climate_stability = df_cleaned['climate'].corr(df_cleaned['stability'])\n",
        "print(f\"Correlation coefficient between climate and stability: {correlation_climate_stability}\")"
      ],
      "metadata": {
        "id": "DZahmMYcCnxI"
      },
      "execution_count": null,
      "outputs": []
    },
    {
      "cell_type": "markdown",
      "source": [
        "Relationship with mean annual temperature: The scatterplot and correlation coefficient show a weak positive relationship between mean annual temperature and country stability. This means that countries with higher average annual temperatures may have a slightly higher level of stability."
      ],
      "metadata": {
        "id": "aIRwoineErQE"
      }
    },
    {
      "cell_type": "code",
      "source": [
        "# Convert 'climate' column to numeric\n",
        "df['climate'] = pd.to_numeric(df['climate'], errors='coerce')\n",
        "\n",
        "# Drop rows with missing values in 'climate' and 'stability' columns\n",
        "df_cleaned = df.dropna(subset=['climate', 'stability'])\n",
        "\n",
        "# Creating a heatmap\n",
        "plt.figure(figsize=(10, 8))\n",
        "sns.heatmap(df_cleaned[['climate', 'stability']].corr(), annot=True, cmap='coolwarm', fmt=\".2f\")\n",
        "plt.title('Correlation Heatmap between Climate and Stability')\n",
        "plt.show()"
      ],
      "metadata": {
        "id": "hlMNpWieDK8I"
      },
      "execution_count": null,
      "outputs": []
    },
    {
      "cell_type": "markdown",
      "source": [
        "An economic hypothesis that countries with lower costs of living and higher per capita education costs may have better economic conditions that may contribute to greater stability\n",
        "\n",
        "Analysis of the relationship between living expenses and stability:"
      ],
      "metadata": {
        "id": "DnOK27koKezi"
      }
    },
    {
      "cell_type": "code",
      "source": [
        "sns.scatterplot(x='costs', y='stability', data=df)\n",
        "plt.xlabel('Cost of Living')\n",
        "plt.ylabel('Stability')\n",
        "plt.title('Correlation between Cost of Living and Stability')\n",
        "plt.show()\n",
        "\n",
        "\n",
        "correlation_costs_stability = df['costs'].corr(df['stability'])\n",
        "print(f\"Correlation coefficient between costs and stability: {correlation_costs_stability}\")\n"
      ],
      "metadata": {
        "id": "CVput5PSKeJ6"
      },
      "execution_count": null,
      "outputs": []
    },
    {
      "cell_type": "markdown",
      "source": [
        " The scatterplot and correlation coefficient show that there is a weak positive relationship between cost of living and country stability. This may indicate that countries with a higher cost of living may have a slightly higher level of stability."
      ],
      "metadata": {
        "id": "0QX7pz4zE9Gy"
      }
    },
    {
      "cell_type": "markdown",
      "source": [
        "\n",
        "Analysis of the relationship between education expenditure per capita and stability"
      ],
      "metadata": {
        "id": "hqPnzuIMLkfx"
      }
    },
    {
      "cell_type": "code",
      "source": [
        "# Вилучення рядків з рядковими значеннями в стовпці 'education_expenditure_per_inhabitant'\n",
        "df_cleaned_education = df.dropna(subset=['education_expenditure_per_inhabitant', 'stability'])\n",
        "\n",
        "# Перетворення стовпця 'education_expenditure_per_inhabitant' у числовий формат\n",
        "df_cleaned_education['education_expenditure_per_inhabitant'] = pd.to_numeric(df_cleaned_education['education_expenditure_per_inhabitant'], errors='coerce')\n",
        "\n",
        "# Побудова діаграми розсіювання\n",
        "sns.scatterplot(x='education_expenditure_per_inhabitant', y='stability', data=df_cleaned_education)\n",
        "plt.xlabel('Education Expenditure per Inhabitant')\n",
        "plt.ylabel('Stability')\n",
        "plt.title('Correlation between Education Expenditure per Inhabitant and Stability')\n",
        "plt.show()\n",
        "\n",
        "# Розрахунок кореляції між витратами на освіту та стабільністю\n",
        "correlation_education_stability = df_cleaned_education['education_expenditure_per_inhabitant'].corr(df_cleaned_education['stability'])\n",
        "print(f\"Correlation coefficient between education expenditure and stability: {correlation_education_stability}\")\n"
      ],
      "metadata": {
        "id": "wyXOZpvoLdhr"
      },
      "execution_count": null,
      "outputs": []
    },
    {
      "cell_type": "markdown",
      "source": [
        "Relationship with Education Expenditure: The scatterplot and correlation coefficient also show a weak positive relationship between education expenditure per capita and country stability. This may suggest that countries with higher spending on education may have slightly more stability."
      ],
      "metadata": {
        "id": "wQ3Bh9qTNHNj"
      }
    },
    {
      "cell_type": "code",
      "source": [],
      "metadata": {
        "id": "GmUtAG6eE8kc"
      },
      "execution_count": null,
      "outputs": []
    },
    {
      "cell_type": "markdown",
      "source": [
        "# How the dataframe was created"
      ],
      "metadata": {
        "id": "jZ8bnn2M2qE7"
      }
    },
    {
      "cell_type": "markdown",
      "source": [
        "\n",
        "This section is not relevant for doing the project, you can ignore it.\n",
        "\n",
        "In case the dataset needs to be recreated, or if you are a very curious student, this is how it was done (on a local machine, _not_ in Colab):\n",
        "\n",
        "```python\n",
        "import pandas as pd\n",
        "import glob\n",
        "from functools import reduce\n",
        "\n",
        "# 1. Download and extract data from\n",
        "#    https://www.kaggle.com/datasets/madhurpant/world-population-data\n",
        "\n",
        "# 2. Merge all dataframes\n",
        "joint_df = reduce(\n",
        "    lambda df1, df2: df1.merge(df2, on=\"country\", how=\"outer\"),\n",
        "    [pd.read_csv(path) for path in glob.glob(\"world-population-data/*\")],\n",
        ")\n",
        "\n",
        "# 3. Make \"country\" the index\n",
        "joint_df.set_index([\"country\"], inplace=True)\n",
        "\n",
        "# 4. Save the result\n",
        "joint_df.to_csv(\"world-population-data.csv\")\n",
        "```"
      ],
      "metadata": {
        "id": "Ar62GwECJcpl"
      }
    }
  ]
}